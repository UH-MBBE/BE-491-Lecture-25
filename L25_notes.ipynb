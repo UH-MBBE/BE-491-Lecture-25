{
 "cells": [
  {
   "cell_type": "markdown",
   "metadata": {},
   "source": [
    "# Transformers\n",
    "\n",
    "Note: it's important to use accelerate==0.21.0 and transformers==4.31.0"
   ]
  },
  {
   "cell_type": "markdown",
   "metadata": {},
   "source": [
    "### Set up imports"
   ]
  },
  {
   "cell_type": "code",
   "execution_count": 12,
   "metadata": {},
   "outputs": [],
   "source": [
    "from transformers import GPT2LMHeadModel, GPT2Tokenizer\n",
    "from transformers import PreTrainedTokenizerFast\n",
    "from transformers import Trainer, TrainingArguments\n",
    "import torch\n",
    "import requests\n"
   ]
  },
  {
   "cell_type": "markdown",
   "metadata": {},
   "source": [
    "### Get Yarrowia protein sequences"
   ]
  },
  {
   "cell_type": "code",
   "execution_count": 3,
   "metadata": {},
   "outputs": [],
   "source": [
    "# a function to get amino acid data from Yarrowia lipolytica\n",
    "def download_sequences():\n",
    "    # Define the URL for the API query\n",
    "    uniprot_api_endpoint = 'https://rest.uniprot.org/uniprotkb/stream?query=organism_id:4952&format=fasta&size=10'\n",
    "    \n",
    "    # Send a GET request to the UniProt API\n",
    "    response = requests.get(uniprot_api_endpoint)\n",
    "    \n",
    "    # Check if the request was successful\n",
    "    if response.status_code == 200:\n",
    "        # Print or save the sequences\n",
    "        return response.text  # or save to a file\n",
    "    else:\n",
    "        print(\"Failed to retrieve data:\", response.status_code)\n",
    "        return ''"
   ]
  },
  {
   "cell_type": "code",
   "execution_count": null,
   "metadata": {},
   "outputs": [],
   "source": [
    "# Call the function to download sequences\n"
   ]
  },
  {
   "cell_type": "code",
   "execution_count": 4,
   "metadata": {},
   "outputs": [],
   "source": [
    "# split the amino acid data into separate strings for each protein\n"
   ]
  },
  {
   "cell_type": "code",
   "execution_count": 5,
   "metadata": {},
   "outputs": [
    {
     "data": {
      "text/plain": [
       "11366"
      ]
     },
     "execution_count": 5,
     "metadata": {},
     "output_type": "execute_result"
    }
   ],
   "source": [
    "# inspect the length of the list\n"
   ]
  },
  {
   "cell_type": "code",
   "execution_count": 15,
   "metadata": {},
   "outputs": [
    {
     "data": {
      "text/plain": [
       "1000"
      ]
     },
     "execution_count": 15,
     "metadata": {},
     "output_type": "execute_result"
    }
   ],
   "source": [
    "# just isolate the first 1000 sequences\n"
   ]
  },
  {
   "cell_type": "code",
   "execution_count": 16,
   "metadata": {},
   "outputs": [
    {
     "data": {
      "text/plain": [
       "'tr|A0A1H6PWB9|A0A1H6PWB9_YARLL Pentafunctional AROM polypeptide OS=Yarrowia lipolytica OX=4952 GN=ARO1 PE=3 SV=1\\nMFAEGQIQKVPILGKESIHIGYKMQDHIVSEIVANIKSSTYILVTDTNIEDLGYVESLKT\\nKFEAAFAKDGIKSRLLTYTVAPGETSKSRATKAAIEDWMLSKGCTRDTVILAVGGGVIGD\\nMIGYVAATFMRGVRFVQIPTTLLAMVDSSIGGKTAIDTPLGKNLVGAFWQPVNIFIDTSF\\nLETLPVREFINGMAEVIKTAAFYDAEEFTRLESASEIFLSTIKKRDAKDPRRVDLSPITD\\nTIGRIVLGSARIKAAVVSADEREGGLRNLLNFGHSIGHAYEAILTPYILHGECVAIGMVK\\nEAELSRYLGILSPVAVARLAKCIKAYELPVSLDDATVKARSHGKKCPVDDLLRIMGVDKK\\nNDGSTKKIVILSAIGKTHEQKASSVADKDIRFVLSEEVIVGEAPVGDKKSYTVTPPGSKS\\nISNRAFVLTALGKGPCKLRNLLHSDDTQHMLEAIELLGGASFEWEADGETLLVTGNGGKL\\nTAPAQELYLGNAGTASRFLTTAATLVQKGDKDHVILTGNKRMQERPIGPLVDALRSNGAD\\nIAFQNAEGSLPLKIEAGVGLKGGLIEVAATVSSQYVSSLLMCAPYAQTPVTLSLVGGKPI\\nSQFYIDMTIAMMADFGVVVTKDETKEHTYHIPQGVYTNPEEYVVESDASSATYPLAYAAM\\nTGHTVTVPNIGSKSLQGDARFAIDVLKAMGCTVEQTATSTTVTGVPNLKAIAVDMEPMTD\\nAFLTACVVAAVSEGTTVITGIANQRVKECNRIEAMRVQLAKYGVVCRELEDGIEVDGISR\\nSDLKTPVSVHSYDDHRVAMSFSLLSSIMAAPVAIEERRCVEKTWPGWWDVLSGVFNVPLE\\nGVTLAKTVSKAESGLSKPSIFIVGMRGAGKTHLGAQAANHLGYEFIDLDQLLEKDLD'"
      ]
     },
     "execution_count": 16,
     "metadata": {},
     "output_type": "execute_result"
    }
   ],
   "source": [
    "# look at the first protein sequence\n"
   ]
  },
  {
   "cell_type": "code",
   "execution_count": 17,
   "metadata": {},
   "outputs": [],
   "source": [
    "# shorten all aa sequences to 1024 characters\n"
   ]
  },
  {
   "cell_type": "markdown",
   "metadata": {},
   "source": [
    "### Define the model"
   ]
  },
  {
   "cell_type": "code",
   "execution_count": 18,
   "metadata": {},
   "outputs": [],
   "source": [
    "# define a tokenizer and a model\n",
    "\n"
   ]
  },
  {
   "cell_type": "markdown",
   "metadata": {},
   "source": [
    "### Model fine-tuning"
   ]
  },
  {
   "cell_type": "code",
   "execution_count": null,
   "metadata": {},
   "outputs": [],
   "source": [
    "# Set training arguments\n",
    "\n",
    "\n",
    "# Create a Trainer instance\n",
    "\n",
    "\n",
    "# Train the model\n"
   ]
  },
  {
   "cell_type": "markdown",
   "metadata": {},
   "source": [
    "### Generate new protein outputs"
   ]
  },
  {
   "cell_type": "code",
   "execution_count": null,
   "metadata": {},
   "outputs": [],
   "source": [
    "# Generate outputs\n",
    "\n"
   ]
  }
 ],
 "metadata": {
  "kernelspec": {
   "display_name": "venv",
   "language": "python",
   "name": "python3"
  },
  "language_info": {
   "codemirror_mode": {
    "name": "ipython",
    "version": 3
   },
   "file_extension": ".py",
   "mimetype": "text/x-python",
   "name": "python",
   "nbconvert_exporter": "python",
   "pygments_lexer": "ipython3",
   "version": "3.10.2"
  }
 },
 "nbformat": 4,
 "nbformat_minor": 2
}
